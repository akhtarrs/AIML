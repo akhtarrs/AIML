{
 "cells": [
  {
   "cell_type": "code",
   "execution_count": 1,
   "metadata": {},
   "outputs": [
    {
     "name": "stdout",
     "output_type": "stream",
     "text": [
      "6\n"
     ]
    }
   ],
   "source": [
    "print(4+2)"
   ]
  },
  {
   "cell_type": "code",
   "execution_count": 2,
   "metadata": {},
   "outputs": [
    {
     "name": "stdout",
     "output_type": "stream",
     "text": [
      "five times a is 15 and 3 multiplied by a is 9\n"
     ]
    }
   ],
   "source": [
    "a=3\n",
    "print('five times a is',5*a,'and 3 multiplied by a is',3*a)"
   ]
  },
  {
   "cell_type": "code",
   "execution_count": 3,
   "metadata": {},
   "outputs": [
    {
     "name": "stdout",
     "output_type": "stream",
     "text": [
      "9\n"
     ]
    }
   ],
   "source": [
    "a=int(input())\n",
    "b=int(input())\n",
    "c=int(input())\n",
    "p=a+b+c\n",
    "print(p)"
   ]
  },
  {
   "cell_type": "code",
   "execution_count": 4,
   "metadata": {},
   "outputs": [
    {
     "name": "stdout",
     "output_type": "stream",
     "text": [
      "0\n",
      "1\n",
      "1\n",
      "2\n",
      "3\n"
     ]
    }
   ],
   "source": [
    "# Write a python program that prints the first 5 numbers in the fibonacci series.\n",
    "# Write your code below\n",
    "\n",
    "a=0\n",
    "b=1\n",
    "c=a+b\n",
    "d=b+c\n",
    "e=c+d\n",
    "\n",
    "print(a)\n",
    "print(b)\n",
    "print(c)\n",
    "print(d)\n",
    "print(e)"
   ]
  },
  {
   "cell_type": "code",
   "execution_count": 5,
   "metadata": {},
   "outputs": [
    {
     "name": "stdout",
     "output_type": "stream",
     "text": [
      "25\n",
      "15\n",
      "100\n",
      "4.0\n"
     ]
    }
   ],
   "source": [
    "# You are given two integers as input. Write a program to perform the following arithmetic operations on the integers and print the results: \n",
    "# a. Addition\n",
    "# b. Subtraction\n",
    "# c. Multiplication\n",
    "# d. Division\n",
    "\n",
    "# Write your code below\n",
    "\n",
    "a=int(input())\n",
    "b=int(input())\n",
    "\n",
    "print(a+b)\n",
    "print(a-b)\n",
    "print(a*b)\n",
    "print(a/b)"
   ]
  },
  {
   "cell_type": "code",
   "execution_count": 6,
   "metadata": {},
   "outputs": [
    {
     "name": "stdout",
     "output_type": "stream",
     "text": [
      "14.5\n"
     ]
    }
   ],
   "source": [
    "# To do: Write a program to calculate the hypotenuse2 of a right triangle using the lengths of the other two sides. The lengths should be floating-point numbers.\n",
    "\n",
    "# Write your code below\n",
    "a=float(input())\n",
    "b=float(input())\n",
    "c=a**2+b**2\n",
    "print(c)"
   ]
  },
  {
   "cell_type": "code",
   "execution_count": 7,
   "metadata": {},
   "outputs": [
    {
     "name": "stdout",
     "output_type": "stream",
     "text": [
      "19.625\n"
     ]
    }
   ],
   "source": [
    "# Write a program to calculate the area of a circle using the given radius. The radius should be a floating-point number.\n",
    "\n",
    "radius = float(input())\n",
    "\n",
    "# Write your code below\n",
    "print(3.14*radius**2)"
   ]
  },
  {
   "cell_type": "code",
   "execution_count": 8,
   "metadata": {},
   "outputs": [
    {
     "name": "stdout",
     "output_type": "stream",
     "text": [
      "helloworld\n"
     ]
    }
   ],
   "source": [
    "# You are given two strings as input. Write a program to concatenate the two strings and print the resulting string to the console.\n",
    "\n",
    "s1 = input()\n",
    "s2 = input()\n",
    "\n",
    "# Write your code below\n",
    "\n",
    "print(s1+s2)"
   ]
  },
  {
   "cell_type": "code",
   "execution_count": 9,
   "metadata": {},
   "outputs": [
    {
     "name": "stdout",
     "output_type": "stream",
     "text": [
      "6\n"
     ]
    }
   ],
   "source": [
    "# You are given a string as input. Write a program to calculate the length of the string and print the output to the console.\n",
    "\n",
    "s = input()\n",
    "\n",
    "# Write your code below\n",
    "print(len(s))\n",
    "\n"
   ]
  },
  {
   "cell_type": "code",
   "execution_count": 10,
   "metadata": {},
   "outputs": [
    {
     "name": "stdout",
     "output_type": "stream",
     "text": [
      "11\n"
     ]
    }
   ],
   "source": [
    "# You are given a string and an integer as input. Write a program to convert the string to an integer and add it to the integer input. Print the sum to the console.\n",
    "\n",
    "s = input()\n",
    "n = int(input())\n",
    "\n",
    "# Write your code below\n",
    "print(int(s)+n)"
   ]
  },
  {
   "cell_type": "code",
   "execution_count": 11,
   "metadata": {},
   "outputs": [
    {
     "name": "stdout",
     "output_type": "stream",
     "text": [
      "<class 'float'>\n"
     ]
    }
   ],
   "source": [
    "print(type(a))"
   ]
  },
  {
   "cell_type": "code",
   "execution_count": null,
   "metadata": {},
   "outputs": [],
   "source": [
    "list\n",
    "touple\n",
    "set\n",
    "dictionary"
   ]
  },
  {
   "cell_type": "code",
   "execution_count": 13,
   "metadata": {},
   "outputs": [
    {
     "name": "stdout",
     "output_type": "stream",
     "text": [
      "['Dan', 2, 3, 4, 'python', 2.7]\n",
      "Dan\n",
      "4\n",
      "2.7\n",
      "python\n",
      "6\n"
     ]
    }
   ],
   "source": [
    "simple_list = ['Dan',2,3,4,'python',2.7]\n",
    "print(simple_list)\n",
    "print(simple_list[0])\n",
    "print(simple_list[3])\n",
    "print(simple_list[-1])\n",
    "print(simple_list[-2])\n",
    "print(len(simple_list))"
   ]
  }
 ],
 "metadata": {
  "kernelspec": {
   "display_name": "Python 3",
   "language": "python",
   "name": "python3"
  },
  "language_info": {
   "codemirror_mode": {
    "name": "ipython",
    "version": 3
   },
   "file_extension": ".py",
   "mimetype": "text/x-python",
   "name": "python",
   "nbconvert_exporter": "python",
   "pygments_lexer": "ipython3",
   "version": "3.13.0"
  }
 },
 "nbformat": 4,
 "nbformat_minor": 2
}
